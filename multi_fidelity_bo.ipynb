{
  "cells": [
    {
      "cell_type": "markdown",
      "metadata": {},
      "source": [
        "## Continuous Multi-Fidelity BO in BoTorch with Knowledge Gradient\n",
        "\n",
        "In this tutorial, we show how to perform continuous multi-fidelity Bayesian optimization (BO) in BoTorch using the multi-fidelity Knowledge Gradient (qMFKG) acquisition function [1, 2].\n",
        "\n",
        "[1] [J. Wu, P.I. Frazier. Continuous-Fidelity Bayesian Optimization with Knowledge Gradient. NIPS Workshop on Bayesian Optimization, 2017.](https://bayesopt.github.io/papers/2017/20.pdf)\n",
        "\n",
        "[2] [J. Wu, S. Toscano-Palmerin, P.I. Frazier, A.G. Wilson. Practical Multi-fidelity Bayesian Optimization for Hyperparameter Tuning. Conference on Uncertainty in Artificial Intelligence (UAI), 2019](https://arxiv.org/pdf/1903.04703.pdf)"
      ]
    },
    {
      "cell_type": "markdown",
      "metadata": {},
      "source": [
        "### Set dtype and device"
      ]
    },
    {
      "cell_type": "code",
      "execution_count": 2,
      "metadata": {},
      "outputs": [],
      "source": [
        "import os\n",
        "import torch\n",
        "\n",
        "\n",
        "tkwargs = {\n",
        "    \"dtype\": torch.double,\n",
        "    \"device\": torch.device(\"cuda\" if torch.cuda.is_available() else \"cpu\"),\n",
        "}\n",
        "SMOKE_TEST = os.environ.get(\"SMOKE_TEST\")"
      ]
    },
    {
      "cell_type": "markdown",
      "metadata": {},
      "source": [
        "### Problem setup\n",
        "\n",
        "We'll consider the Augmented Hartmann multi-fidelity synthetic test problem. This function is a version of the Hartmann6 test function with an additional dimension representing the fidelity parameter; details are in [2]. The function takes the form $f(x,s)$ where $x \\in [0,1]^6$ and $s \\in [0,1]$. The target fidelity is 1.0, which means that our goal is to solve $\\max_x f(x,1.0)$ by making use of cheaper evaluations $f(x,s)$ for $s < 1.0$. In this example, we'll assume that the cost function takes the form $5.0 + s$, illustrating a situation where the fixed cost is $5.0$."
      ]
    },
    {
      "cell_type": "code",
      "execution_count": 3,
      "metadata": {},
      "outputs": [
        {
          "name": "stderr",
          "output_type": "stream",
          "text": [
            "c:\\cond\\envs\\MFBO\\Lib\\site-packages\\tqdm\\auto.py:21: TqdmWarning: IProgress not found. Please update jupyter and ipywidgets. See https://ipywidgets.readthedocs.io/en/stable/user_install.html\n",
            "  from .autonotebook import tqdm as notebook_tqdm\n"
          ]
        }
      ],
      "source": [
        "from botorch.test_functions.multi_fidelity import AugmentedHartmann\n",
        "\n",
        "\n",
        "problem = AugmentedHartmann(negate=True).to(**tkwargs)"
      ]
    },
    {
      "cell_type": "markdown",
      "metadata": {},
      "source": [
        "#### Model initialization\n",
        "\n",
        "We use a `SingleTaskMultiFidelityGP` as the surrogate model, which uses a kernel from [2] that is well-suited for multi-fidelity applications."
      ]
    },
    {
      "cell_type": "code",
      "execution_count": 4,
      "metadata": {},
      "outputs": [],
      "source": [
        "from botorch.models.gp_regression_fidelity import SingleTaskMultiFidelityGP\n",
        "from botorch.models.transforms.outcome import Standardize\n",
        "from gpytorch.mlls.exact_marginal_log_likelihood import ExactMarginalLogLikelihood\n",
        "from botorch.utils.transforms import unnormalize\n",
        "from botorch.utils.sampling import draw_sobol_samples\n",
        "\n",
        "\n",
        "def generate_initial_data(n=16):\n",
        "    # generate training data\n",
        "    train_x = torch.rand(n, 7, **tkwargs)\n",
        "    train_obj = problem(train_x).unsqueeze(-1)  # add output dimension\n",
        "    return train_x, train_obj\n",
        "\n",
        "\n",
        "def initialize_model(train_x, train_obj):\n",
        "    # define a surrogate model suited for a \"training data\"-like fidelity parameter\n",
        "    # in dimension 6, as in [2]\n",
        "    model = SingleTaskMultiFidelityGP(\n",
        "        train_x, train_obj, outcome_transform=Standardize(m=1), data_fidelities=[6]\n",
        "    )\n",
        "    mll = ExactMarginalLogLikelihood(model.likelihood, model)\n",
        "    return mll, model"
      ]
    },
    {
      "cell_type": "markdown",
      "metadata": {},
      "source": [
        "#### Define a helper function to construct the MFKG acquisition function\n",
        "The helper function illustrates how one can initialize a $q$MFKG acquisition function. In this example, we assume that the affine cost is known. We then use the notion of a `CostAwareUtility` in BoTorch to scalarize the competing objectives of information gain and cost. The MFKG acquisition function optimizes the ratio of information gain to cost, which is captured by the `InverseCostWeightedUtility`.\n",
        "\n",
        "In order for MFKG to evaluate the information gain, it uses the model to predict the function value at the highest fidelity after conditioning on the observation. This is handled by the `project` argument, which specifies how to transform a tensor `X` to its target fidelity. We use a default helper function called `project_to_target_fidelity` to achieve this.\n",
        "\n",
        "An important point to keep in mind: in the case of standard KG, one can ignore the current value and simply optimize the expected maximum posterior mean of the next stage. However, for MFKG, since the goal is optimize information *gain* per cost, it is important to first compute the current value (i.e., maximum of the posterior mean at the target fidelity). To accomplish this, we use a `FixedFeatureAcquisitionFunction` on top of a `PosteriorMean`."
      ]
    },
    {
      "cell_type": "code",
      "execution_count": 5,
      "metadata": {},
      "outputs": [],
      "source": [
        "from botorch import fit_gpytorch_mll\n",
        "from botorch.models.cost import AffineFidelityCostModel\n",
        "from botorch.acquisition.cost_aware import InverseCostWeightedUtility\n",
        "from botorch.acquisition import PosteriorMean\n",
        "from botorch.acquisition.knowledge_gradient import qMultiFidelityKnowledgeGradient\n",
        "from botorch.acquisition.fixed_feature import FixedFeatureAcquisitionFunction\n",
        "from botorch.optim.optimize import optimize_acqf\n",
        "from botorch.acquisition.utils import project_to_target_fidelity\n",
        "\n",
        "\n",
        "bounds = torch.tensor([[0.0] * problem.dim, [1.0] * problem.dim], **tkwargs)\n",
        "target_fidelities = {6: 1.0}\n",
        "\n",
        "cost_model = AffineFidelityCostModel(fidelity_weights={6: 1.0}, fixed_cost=5.0)\n",
        "cost_aware_utility = InverseCostWeightedUtility(cost_model=cost_model)\n",
        "\n",
        "\n",
        "def project(X):\n",
        "    return project_to_target_fidelity(X=X, target_fidelities=target_fidelities)\n",
        "\n",
        "\n",
        "def get_mfkg(model):\n",
        "\n",
        "    curr_val_acqf = FixedFeatureAcquisitionFunction(\n",
        "        acq_function=PosteriorMean(model),\n",
        "        d=7,\n",
        "        columns=[6],\n",
        "        values=[1],\n",
        "    )\n",
        "\n",
        "    _, current_value = optimize_acqf(\n",
        "        acq_function=curr_val_acqf,\n",
        "        bounds=bounds[:, :-1],\n",
        "        q=1,\n",
        "        num_restarts=10 if not SMOKE_TEST else 2,\n",
        "        raw_samples=1024 if not SMOKE_TEST else 4,\n",
        "        options={\"batch_limit\": 10, \"maxiter\": 200},\n",
        "    )\n",
        "\n",
        "    return qMultiFidelityKnowledgeGradient(\n",
        "        model=model,\n",
        "        num_fantasies=128 if not SMOKE_TEST else 2,\n",
        "        current_value=current_value,\n",
        "        cost_aware_utility=cost_aware_utility,\n",
        "        project=project,\n",
        "    )"
      ]
    },
    {
      "cell_type": "markdown",
      "metadata": {},
      "source": [
        "#### Define a helper function that performs the essential BO step\n",
        "This helper function optimizes the acquisition function and returns the batch $\\{x_1, x_2, \\ldots x_q\\}$ along with the observed function values. "
      ]
    },
    {
      "cell_type": "code",
      "execution_count": 6,
      "metadata": {},
      "outputs": [],
      "source": [
        "from botorch.optim.initializers import gen_one_shot_kg_initial_conditions\n",
        "\n",
        "torch.set_printoptions(precision=3, sci_mode=False)\n",
        "\n",
        "NUM_RESTARTS = 10 if not SMOKE_TEST else 2\n",
        "RAW_SAMPLES = 512 if not SMOKE_TEST else 4\n",
        "\n",
        "\n",
        "def optimize_mfkg_and_get_observation(mfkg_acqf):\n",
        "    \"\"\"Optimizes MFKG and returns a new candidate, observation, and cost.\"\"\"\n",
        "\n",
        "    X_init = gen_one_shot_kg_initial_conditions(\n",
        "        acq_function=mfkg_acqf,\n",
        "        bounds=bounds,\n",
        "        q=4,\n",
        "        num_restarts=NUM_RESTARTS,\n",
        "        raw_samples=RAW_SAMPLES,\n",
        "    )\n",
        "    candidates, _ = optimize_acqf(\n",
        "        acq_function=mfkg_acqf,\n",
        "        bounds=bounds,\n",
        "        q=4,\n",
        "        num_restarts=NUM_RESTARTS,\n",
        "        raw_samples=RAW_SAMPLES,\n",
        "        batch_initial_conditions=X_init,\n",
        "        options={\"batch_limit\": 5, \"maxiter\": 200},\n",
        "    )\n",
        "    # observe new values\n",
        "    cost = cost_model(candidates).sum()\n",
        "    new_x = candidates.detach()\n",
        "    new_obj = problem(new_x).unsqueeze(-1)\n",
        "    print(f\"candidates:\\n{new_x}\\n\")\n",
        "    print(f\"observations:\\n{new_obj}\\n\\n\")\n",
        "    return new_x, new_obj, cost"
      ]
    },
    {
      "cell_type": "markdown",
      "metadata": {},
      "source": [
        "### Perform a few steps of multi-fidelity BO\n",
        "First, let's generate some initial random data and fit a surrogate model."
      ]
    },
    {
      "cell_type": "code",
      "execution_count": 7,
      "metadata": {},
      "outputs": [],
      "source": [
        "train_x, train_obj = generate_initial_data(n=16)"
      ]
    },
    {
      "cell_type": "markdown",
      "metadata": {},
      "source": [
        "We can now use the helper functions above to run a few iterations of BO."
      ]
    },
    {
      "cell_type": "code",
      "execution_count": 15,
      "metadata": {},
      "outputs": [
        {
          "name": "stdout",
          "output_type": "stream",
          "text": [
            "Time to initialize model: 0.01\n",
            "Time to fit model: 2.40\n",
            "Time to get acqf: 3.84\n",
            "candidates:\n",
            "tensor([[0.346, 0.127, 0.525, 0.325, 0.335, 0.689, 0.961],\n",
            "        [0.255, 0.547, 0.270, 0.115, 0.402, 0.155, 0.345],\n",
            "        [0.371, 0.120, 0.377, 0.326, 0.297, 0.712, 0.969],\n",
            "        [0.285, 0.083, 0.422, 0.248, 0.306, 0.664, 0.964]],\n",
            "       dtype=torch.float64)\n",
            "\n",
            "observations:\n",
            "tensor([[2.940],\n",
            "        [0.240],\n",
            "        [2.865],\n",
            "        [3.151]], dtype=torch.float64)\n",
            "\n",
            "\n",
            "Time to optimize acqf: 52.76\n",
            "Time to initialize model: 0.01\n",
            "Time to fit model: 1.78\n",
            "Time to get acqf: 2.67\n",
            "candidates:\n",
            "tensor([[0.265, 0.077, 0.543, 0.233, 0.271, 0.672, 0.961],\n",
            "        [0.200, 0.054, 0.475, 0.287, 0.298, 0.678, 0.945],\n",
            "        [0.077, 0.151, 0.372, 0.213, 0.289, 0.732, 0.591],\n",
            "        [0.445, 0.288, 0.831, 0.594, 0.114, 0.197, 0.515]],\n",
            "       dtype=torch.float64)\n",
            "\n",
            "observations:\n",
            "tensor([[3.030],\n",
            "        [3.195],\n",
            "        [2.764],\n",
            "        [0.193]], dtype=torch.float64)\n",
            "\n",
            "\n",
            "Time to optimize acqf: 52.49\n",
            "Time to initialize model: 0.01\n",
            "Time to fit model: 1.41\n",
            "Time to get acqf: 2.17\n",
            "candidates:\n",
            "tensor([[0.176, 0.117, 0.417, 0.296, 0.288, 0.631, 0.933],\n",
            "        [0.084, 0.791, 0.364, 0.737, 0.095, 0.236, 0.935],\n",
            "        [0.238, 0.683, 0.265, 0.655, 0.230, 1.000, 0.930],\n",
            "        [0.162, 0.104, 0.510, 0.262, 0.327, 0.646, 0.925]],\n",
            "       dtype=torch.float64)\n",
            "\n",
            "observations:\n",
            "tensor([[3.215],\n",
            "        [0.241],\n",
            "        [0.110],\n",
            "        [3.250]], dtype=torch.float64)\n",
            "\n",
            "\n",
            "Time to optimize acqf: 43.33\n",
            "Time to initialize model: 0.01\n",
            "Time to fit model: 1.79\n",
            "Time to get acqf: 2.53\n",
            "candidates:\n",
            "tensor([[0.419, 0.119, 0.516, 0.339, 0.337, 0.701, 0.959],\n",
            "        [0.772, 0.929, 0.864, 0.470, 0.816, 0.552, 0.695],\n",
            "        [0.194, 0.879, 0.420, 0.224, 0.848, 0.601, 0.997],\n",
            "        [0.171, 0.244, 0.152, 0.804, 0.930, 0.407, 0.872]],\n",
            "       dtype=torch.float64)\n",
            "\n",
            "observations:\n",
            "tensor([[2.636],\n",
            "        [0.008],\n",
            "        [0.140],\n",
            "        [0.009]], dtype=torch.float64)\n",
            "\n",
            "\n",
            "Time to optimize acqf: 44.21\n",
            "Time to initialize model: 0.01\n",
            "Time to fit model: 3.22\n",
            "Time to get acqf: 4.39\n",
            "candidates:\n",
            "tensor([[0.595, 0.333, 0.473, 0.260, 0.277, 0.990, 0.353],\n",
            "        [0.196, 0.113, 0.572, 0.287, 0.302, 0.631, 0.917],\n",
            "        [0.943, 0.632, 0.626, 0.085, 0.657, 0.797, 0.440],\n",
            "        [0.170, 0.164, 0.504, 0.276, 0.306, 0.676, 0.933]],\n",
            "       dtype=torch.float64)\n",
            "\n",
            "observations:\n",
            "tensor([[0.848],\n",
            "        [3.176],\n",
            "        [0.035],\n",
            "        [3.288]], dtype=torch.float64)\n",
            "\n",
            "\n",
            "Time to optimize acqf: 50.81\n",
            "Time to initialize model: 0.01\n",
            "Time to fit model: 1.93\n",
            "Time to get acqf: 2.62\n",
            "candidates:\n",
            "tensor([[0.360, 0.375, 0.864, 0.530, 0.180, 0.694, 0.980],\n",
            "        [0.400, 0.614, 0.104, 0.507, 0.239, 0.680, 0.959],\n",
            "        [0.136, 0.156, 0.450, 0.313, 0.333, 0.668, 0.936],\n",
            "        [0.520, 0.097, 0.876, 0.192, 0.790, 0.897, 0.962]],\n",
            "       dtype=torch.float64)\n",
            "\n",
            "observations:\n",
            "tensor([[0.966],\n",
            "        [0.671],\n",
            "        [3.190],\n",
            "        [0.040]], dtype=torch.float64)\n",
            "\n",
            "\n",
            "Time to optimize acqf: 57.21\n"
          ]
        }
      ],
      "source": [
        "import timeit\n",
        "\n",
        "cumulative_cost = 0.0\n",
        "N_ITER = 6 if not SMOKE_TEST else 2\n",
        "\n",
        "\n",
        "for _ in range(N_ITER):\n",
        "    start_time = timeit.default_timer()\n",
        "    mll, model = initialize_model(train_x, train_obj)\n",
        "    print(f\"Time to initialize model: {timeit.default_timer()-start_time:.2f}\")\n",
        "    fit_gpytorch_mll(mll)\n",
        "    print(f\"Time to fit model: {timeit.default_timer()-start_time:.2f}\")\n",
        "    mfkg_acqf = get_mfkg(model)\n",
        "    print(f\"Time to get acqf: {timeit.default_timer()-start_time:.2f}\")\n",
        "    new_x, new_obj, cost = optimize_mfkg_and_get_observation(mfkg_acqf)\n",
        "    print(f\"Time to optimize acqf: {timeit.default_timer()-start_time:.2f}\")\n",
        "    train_x = torch.cat([train_x, new_x])\n",
        "    train_obj = torch.cat([train_obj, new_obj])\n",
        "    cumulative_cost += cost"
      ]
    },
    {
      "cell_type": "markdown",
      "metadata": {},
      "source": [
        "### Make a final recommendation\n",
        "In multi-fidelity BO, there are usually fewer observations of the function at the target fidelity, so it is important to use a recommendation function that uses the correct fidelity. Here, we maximize the posterior mean with the fidelity dimension fixed to the target fidelity of 1.0."
      ]
    },
    {
      "cell_type": "code",
      "execution_count": 9,
      "metadata": {},
      "outputs": [],
      "source": [
        "\n",
        "def get_recommendation(model):\n",
        "\n",
        "    rec_acqf = FixedFeatureAcquisitionFunction(\n",
        "        acq_function=PosteriorMean(model),\n",
        "        d=7,\n",
        "        columns=[6],\n",
        "        values=[1],\n",
        "    )\n",
        "\n",
        "    final_rec, _ = optimize_acqf(\n",
        "        acq_function=rec_acqf,\n",
        "        bounds=bounds[:, :-1],\n",
        "        q=1,\n",
        "        num_restarts=NUM_RESTARTS,\n",
        "        raw_samples=RAW_SAMPLES,\n",
        "        options={\"batch_limit\": 5, \"maxiter\": 200},\n",
        "    )\n",
        "\n",
        "    final_rec = rec_acqf._construct_X_full(final_rec)\n",
        "\n",
        "    objective_value = problem(final_rec)\n",
        "    print(f\"recommended point:\\n{final_rec}\\n\\nobjective value:\\n{objective_value}\")\n",
        "    return final_rec"
      ]
    },
    {
      "cell_type": "code",
      "execution_count": 10,
      "metadata": {},
      "outputs": [
        {
          "name": "stdout",
          "output_type": "stream",
          "text": [
            "recommended point:\n",
            "tensor([[0.304, 0.153, 0.522, 0.279, 0.307, 0.692, 1.000]],\n",
            "       dtype=torch.float64)\n",
            "\n",
            "objective value:\n",
            "tensor([3.148], dtype=torch.float64)\n",
            "\n",
            "total cost: 122.32543738192216\n",
            "\n"
          ]
        }
      ],
      "source": [
        "final_rec = get_recommendation(model)\n",
        "print(f\"\\ntotal cost: {cumulative_cost}\\n\")"
      ]
    },
    {
      "cell_type": "markdown",
      "metadata": {},
      "source": [
        "### Comparison to standard EI (always use target fidelity)\n",
        "Let's now repeat the same steps using a standard EI acquisition function (note that this is not a rigorous comparison as we are only looking at one trial in order to keep computational requirements low)."
      ]
    },
    {
      "cell_type": "code",
      "execution_count": 16,
      "metadata": {},
      "outputs": [],
      "source": [
        "from botorch.acquisition import qExpectedImprovement\n",
        "\n",
        "def get_ei(model, best_f):\n",
        "\n",
        "    return FixedFeatureAcquisitionFunction(\n",
        "        acq_function=qExpectedImprovement(model=model, best_f=best_f),\n",
        "        d=7,\n",
        "        columns=[6],\n",
        "        values=[1],\n",
        "    )\n",
        "\n",
        "\n",
        "def optimize_ei_and_get_observation(ei_acqf):\n",
        "    \"\"\"Optimizes EI and returns a new candidate, observation, and cost.\"\"\"\n",
        "\n",
        "    candidates, _ = optimize_acqf(\n",
        "        acq_function=ei_acqf,\n",
        "        bounds=bounds[:, :-1],\n",
        "        q=4,\n",
        "        num_restarts=NUM_RESTARTS,\n",
        "        raw_samples=RAW_SAMPLES,\n",
        "        options={\"batch_limit\": 5, \"maxiter\": 200},\n",
        "    )\n",
        "\n",
        "    # add the fidelity parameter\n",
        "    candidates = ei_acqf._construct_X_full(candidates)\n",
        "\n",
        "    # observe new values\n",
        "    cost = cost_model(candidates).sum()\n",
        "    new_x = candidates.detach()\n",
        "    new_obj = problem(new_x).unsqueeze(-1)\n",
        "    #print(f\"candidates:\\n{new_x}\\n\")\n",
        "    #print(f\"observations:\\n{new_obj}\\n\\n\")\n",
        "    return new_x, new_obj, cost"
      ]
    },
    {
      "cell_type": "code",
      "execution_count": 17,
      "metadata": {},
      "outputs": [
        {
          "name": "stdout",
          "output_type": "stream",
          "text": [
            "model initialization: 0.002168899984098971\n",
            "model fitting: -0.00404780000098981\n",
            "acqf initialization: 0.004791799990925938\n",
            "acqf optimization: -0.003980100009357557\n",
            "model initialization: 0.006471200016676448\n",
            "model fitting: 0.005179600018891506\n",
            "acqf initialization: 0.017366300016874447\n",
            "acqf optimization: 0.013926500017987564\n",
            "model initialization: -0.0004281000146875158\n",
            "model fitting: -0.006543200011947192\n",
            "acqf initialization: -0.004853100006585009\n",
            "acqf optimization: -0.01343140001699794\n",
            "model initialization: 0.0051488000026438385\n",
            "model fitting: 0.00963479999336414\n",
            "acqf initialization: 0.0059591999888652936\n",
            "acqf optimization: 0.008068099996307865\n",
            "model initialization: 0.005562499994994141\n",
            "model fitting: -0.01289080000424292\n",
            "acqf initialization: -0.013044899998931214\n",
            "acqf optimization: -0.009928700004820712\n",
            "model initialization: -0.01314490000368096\n",
            "model fitting: -0.001228799985256046\n",
            "acqf initialization: -0.015086599989444949\n",
            "acqf optimization: 0.007683500007260591\n"
          ]
        }
      ],
      "source": [
        "import timeit\n",
        "\n",
        "cumulative_cost = 0.0\n",
        "\n",
        "train_x, train_obj = generate_initial_data(n=16)\n",
        "\n",
        "for _ in range(N_ITER):\n",
        "    start = timeit.timeit()\n",
        "    mll, model = initialize_model(train_x, train_obj)\n",
        "    print(f\"model initialization: {timeit.timeit() - start}\")\n",
        "    fit_gpytorch_mll(mll)\n",
        "    print(f\"model fitting: {timeit.timeit() - start}\")\n",
        "    ei_acqf = get_ei(model, best_f=train_obj.max())\n",
        "    print(f\"acqf initialization: {timeit.timeit() - start}\")\n",
        "    new_x, new_obj, cost = optimize_ei_and_get_observation(ei_acqf)\n",
        "    print(f\"acqf optimization: {timeit.timeit() - start}\")\n",
        "    train_x = torch.cat([train_x, new_x])\n",
        "    train_obj = torch.cat([train_obj, new_obj])\n",
        "    cumulative_cost += cost"
      ]
    },
    {
      "cell_type": "code",
      "execution_count": 12,
      "metadata": {},
      "outputs": [
        {
          "name": "stdout",
          "output_type": "stream",
          "text": [
            "recommended point:\n",
            "tensor([[0.288, 0.175, 0.520, 0.283, 0.351, 0.735, 1.000]],\n",
            "       dtype=torch.float64)\n",
            "\n",
            "objective value:\n",
            "tensor([2.990], dtype=torch.float64)\n",
            "\n",
            "total cost: 144.0\n",
            "\n"
          ]
        }
      ],
      "source": [
        "final_rec = get_recommendation(model)\n",
        "print(f\"\\ntotal cost: {cumulative_cost}\\n\")"
      ]
    }
  ],
  "metadata": {
    "kernelspec": {
      "display_name": "python3",
      "language": "python",
      "name": "python3"
    },
    "language_info": {
      "codemirror_mode": {
        "name": "ipython",
        "version": 3
      },
      "file_extension": ".py",
      "mimetype": "text/x-python",
      "name": "python",
      "nbconvert_exporter": "python",
      "pygments_lexer": "ipython3",
      "version": "3.11.8"
    }
  },
  "nbformat": 4,
  "nbformat_minor": 2
}
