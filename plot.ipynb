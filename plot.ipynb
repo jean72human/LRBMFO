{
 "cells": [
  {
   "cell_type": "code",
   "execution_count": 4,
   "id": "2896af1d",
   "metadata": {},
   "outputs": [],
   "source": [
    "import torch\n",
    "\n",
    "import matplotlib.pyplot as plt\n",
    "import pandas as pd\n",
    "import numpy as np\n",
    "\n",
    "from misc import simple_regret, get_problem_settings, bin_mean_cost, set_matplotlib_params"
   ]
  },
  {
   "cell_type": "code",
   "execution_count": 5,
   "id": "1b99c3c0",
   "metadata": {},
   "outputs": [],
   "source": [
    "env = \"xgb\"\n",
    "algo = \"kg\"\n",
    "budget = 500\n",
    "bins = 80"
   ]
  },
  {
   "cell_type": "code",
   "execution_count": 6,
   "id": "73998f9d",
   "metadata": {},
   "outputs": [
    {
     "ename": "FileNotFoundError",
     "evalue": "[Errno 2] No such file or directory: './results/exp_xgb_sfkg_results.pt'",
     "output_type": "error",
     "traceback": [
      "\u001b[0;31m---------------------------------------------------------------------------\u001b[0m",
      "\u001b[0;31mFileNotFoundError\u001b[0m                         Traceback (most recent call last)",
      "Cell \u001b[0;32mIn[6], line 1\u001b[0m\n\u001b[0;32m----> 1\u001b[0m data \u001b[38;5;241m=\u001b[39m \u001b[43mtorch\u001b[49m\u001b[38;5;241;43m.\u001b[39;49m\u001b[43mload\u001b[49m\u001b[43m(\u001b[49m\u001b[38;5;124;43m\"\u001b[39;49m\u001b[38;5;124;43m./results/exp_\u001b[39;49m\u001b[38;5;124;43m\"\u001b[39;49m\u001b[38;5;241;43m+\u001b[39;49m\u001b[43menv\u001b[49m\u001b[38;5;241;43m+\u001b[39;49m\u001b[38;5;124;43m\"\u001b[39;49m\u001b[38;5;124;43m_sf\u001b[39;49m\u001b[38;5;124;43m\"\u001b[39;49m\u001b[38;5;241;43m+\u001b[39;49m\u001b[43malgo\u001b[49m\u001b[38;5;241;43m+\u001b[39;49m\u001b[38;5;124;43m\"\u001b[39;49m\u001b[38;5;124;43m_results.pt\u001b[39;49m\u001b[38;5;124;43m\"\u001b[39;49m\u001b[43m)\u001b[49m\u001b[38;5;66;03m# + torch.load(\"./results copy/exp_\"+env+\"_sf\"+algo+\"_results.pt\")\u001b[39;00m\n\u001b[1;32m      2\u001b[0m li \u001b[38;5;241m=\u001b[39m [torch\u001b[38;5;241m.\u001b[39mclamp(x[\u001b[38;5;241m0\u001b[39m],\u001b[38;5;241m0\u001b[39m)\u001b[38;5;241m.\u001b[39mcpu() \u001b[38;5;28;01mfor\u001b[39;00m x \u001b[38;5;129;01min\u001b[39;00m data]\n\u001b[1;32m      3\u001b[0m mu1,sigma1,bins1 \u001b[38;5;241m=\u001b[39m bin_mean_cost(li,budget\u001b[38;5;241m=\u001b[39mbudget,nbins\u001b[38;5;241m=\u001b[39mbins,idx_comp\u001b[38;5;241m=\u001b[39m\u001b[38;5;241m0\u001b[39m)\n",
      "File \u001b[0;32m~/.local/lib/python3.10/site-packages/torch/serialization.py:791\u001b[0m, in \u001b[0;36mload\u001b[0;34m(f, map_location, pickle_module, weights_only, **pickle_load_args)\u001b[0m\n\u001b[1;32m    788\u001b[0m \u001b[38;5;28;01mif\u001b[39;00m \u001b[38;5;124m'\u001b[39m\u001b[38;5;124mencoding\u001b[39m\u001b[38;5;124m'\u001b[39m \u001b[38;5;129;01mnot\u001b[39;00m \u001b[38;5;129;01min\u001b[39;00m pickle_load_args\u001b[38;5;241m.\u001b[39mkeys():\n\u001b[1;32m    789\u001b[0m     pickle_load_args[\u001b[38;5;124m'\u001b[39m\u001b[38;5;124mencoding\u001b[39m\u001b[38;5;124m'\u001b[39m] \u001b[38;5;241m=\u001b[39m \u001b[38;5;124m'\u001b[39m\u001b[38;5;124mutf-8\u001b[39m\u001b[38;5;124m'\u001b[39m\n\u001b[0;32m--> 791\u001b[0m \u001b[38;5;28;01mwith\u001b[39;00m \u001b[43m_open_file_like\u001b[49m\u001b[43m(\u001b[49m\u001b[43mf\u001b[49m\u001b[43m,\u001b[49m\u001b[43m \u001b[49m\u001b[38;5;124;43m'\u001b[39;49m\u001b[38;5;124;43mrb\u001b[39;49m\u001b[38;5;124;43m'\u001b[39;49m\u001b[43m)\u001b[49m \u001b[38;5;28;01mas\u001b[39;00m opened_file:\n\u001b[1;32m    792\u001b[0m     \u001b[38;5;28;01mif\u001b[39;00m _is_zipfile(opened_file):\n\u001b[1;32m    793\u001b[0m         \u001b[38;5;66;03m# The zipfile reader is going to advance the current file position.\u001b[39;00m\n\u001b[1;32m    794\u001b[0m         \u001b[38;5;66;03m# If we want to actually tail call to torch.jit.load, we need to\u001b[39;00m\n\u001b[1;32m    795\u001b[0m         \u001b[38;5;66;03m# reset back to the original position.\u001b[39;00m\n\u001b[1;32m    796\u001b[0m         orig_position \u001b[38;5;241m=\u001b[39m opened_file\u001b[38;5;241m.\u001b[39mtell()\n",
      "File \u001b[0;32m~/.local/lib/python3.10/site-packages/torch/serialization.py:271\u001b[0m, in \u001b[0;36m_open_file_like\u001b[0;34m(name_or_buffer, mode)\u001b[0m\n\u001b[1;32m    269\u001b[0m \u001b[38;5;28;01mdef\u001b[39;00m \u001b[38;5;21m_open_file_like\u001b[39m(name_or_buffer, mode):\n\u001b[1;32m    270\u001b[0m     \u001b[38;5;28;01mif\u001b[39;00m _is_path(name_or_buffer):\n\u001b[0;32m--> 271\u001b[0m         \u001b[38;5;28;01mreturn\u001b[39;00m \u001b[43m_open_file\u001b[49m\u001b[43m(\u001b[49m\u001b[43mname_or_buffer\u001b[49m\u001b[43m,\u001b[49m\u001b[43m \u001b[49m\u001b[43mmode\u001b[49m\u001b[43m)\u001b[49m\n\u001b[1;32m    272\u001b[0m     \u001b[38;5;28;01melse\u001b[39;00m:\n\u001b[1;32m    273\u001b[0m         \u001b[38;5;28;01mif\u001b[39;00m \u001b[38;5;124m'\u001b[39m\u001b[38;5;124mw\u001b[39m\u001b[38;5;124m'\u001b[39m \u001b[38;5;129;01min\u001b[39;00m mode:\n",
      "File \u001b[0;32m~/.local/lib/python3.10/site-packages/torch/serialization.py:252\u001b[0m, in \u001b[0;36m_open_file.__init__\u001b[0;34m(self, name, mode)\u001b[0m\n\u001b[1;32m    251\u001b[0m \u001b[38;5;28;01mdef\u001b[39;00m \u001b[38;5;21m__init__\u001b[39m(\u001b[38;5;28mself\u001b[39m, name, mode):\n\u001b[0;32m--> 252\u001b[0m     \u001b[38;5;28msuper\u001b[39m()\u001b[38;5;241m.\u001b[39m\u001b[38;5;21m__init__\u001b[39m(\u001b[38;5;28;43mopen\u001b[39;49m\u001b[43m(\u001b[49m\u001b[43mname\u001b[49m\u001b[43m,\u001b[49m\u001b[43m \u001b[49m\u001b[43mmode\u001b[49m\u001b[43m)\u001b[49m)\n",
      "\u001b[0;31mFileNotFoundError\u001b[0m: [Errno 2] No such file or directory: './results/exp_xgb_sfkg_results.pt'"
     ]
    }
   ],
   "source": [
    "data = torch.load(\"./results/exp_\"+env+\"_sf\"+algo+\"_results.pt\")# + torch.load(\"./results copy/exp_\"+env+\"_sf\"+algo+\"_results.pt\")\n",
    "li = [torch.clamp(x[0],0).cpu() for x in data]\n",
    "mu1,sigma1,bins1 = bin_mean_cost(li,budget=budget,nbins=bins,idx_comp=0)\n",
    "# mu1+=1e-2\n",
    "# mu1 = torch.clamp(mu1,1e-4)"
   ]
  },
  {
   "cell_type": "code",
   "execution_count": null,
   "id": "3a01418b",
   "metadata": {},
   "outputs": [],
   "source": [
    "data = torch.load(\"./results/exp_\"+env+\"_mf\"+algo+\"_results.pt\") #+ torch.load(\"./results copy/exp_\"+env+\"_mf\"+algo+\"_results.pt\")\n",
    "li = [torch.clamp(x[0],0).cpu() for x in data]\n",
    "mu2,sigma2,bins2 = bin_mean_cost(li,budget=budget,nbins=bins,idx_comp=0)\n",
    "# mu2+=1e-2"
   ]
  },
  {
   "cell_type": "code",
   "execution_count": null,
   "id": "ac670379",
   "metadata": {},
   "outputs": [],
   "source": [
    "plt.figure(figsize=(10, 4))\n",
    "plt.rc('font', family='serif')\n",
    "\n",
    "plt.plot(bins2, mu2, '-P', color='brown', linewidth=2, markersize=4, label=f\"MFBO ({algo})\")\n",
    "plt.plot(bins1, mu1, '-P', color='royalblue', linewidth=2, markersize=4, label=f\"SFBO ({algo})\")\n",
    "\n",
    "plt.fill_between(bins1, \n",
    "                 [float(regret - std) for regret, std in zip(mu1, sigma1)], \n",
    "                 [float(regret + std) for regret, std in zip(mu1, sigma1)], \n",
    "                 color='cornflowerblue', alpha=0.2)\n",
    "\n",
    "plt.fill_between(bins2, \n",
    "                 [float(regret - std) for regret, std in zip(mu2, sigma2)], \n",
    "                 [float(regret + std) for regret, std in zip(mu2, sigma2)], \n",
    "                 color='lightcoral', alpha=0.2)\n",
    "\n",
    "plt.xlabel(\"Budget\", fontsize=20)\n",
    "plt.ylabel(\"Simple regret\", fontsize=20)\n",
    "plt.yscale(\"log\")\n",
    "\n",
    "# plt.title(\"Simple regret vs. Budget \"+env)\n",
    "plt.grid(True, which='both', linestyle='--', linewidth=0.5)\n",
    "plt.legend()\n",
    "plt.tight_layout()\n",
    "plt.show()"
   ]
  },
  {
   "cell_type": "code",
   "execution_count": null,
   "id": "4bb1e9aa",
   "metadata": {},
   "outputs": [],
   "source": []
  },
  {
   "cell_type": "code",
   "execution_count": null,
   "id": "640726d4",
   "metadata": {},
   "outputs": [],
   "source": []
  }
 ],
 "metadata": {
  "kernelspec": {
   "display_name": "Python 3 (ipykernel)",
   "language": "python",
   "name": "python3"
  },
  "language_info": {
   "codemirror_mode": {
    "name": "ipython",
    "version": 3
   },
   "file_extension": ".py",
   "mimetype": "text/x-python",
   "name": "python",
   "nbconvert_exporter": "python",
   "pygments_lexer": "ipython3",
   "version": "3.10.9"
  }
 },
 "nbformat": 4,
 "nbformat_minor": 5
}
